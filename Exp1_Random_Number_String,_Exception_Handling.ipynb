{
  "nbformat": 4,
  "nbformat_minor": 0,
  "metadata": {
    "colab": {
      "provenance": [],
      "collapsed_sections": [],
      "include_colab_link": true
    },
    "kernelspec": {
      "display_name": "Python 3",
      "language": "python",
      "name": "python3"
    },
    "language_info": {
      "codemirror_mode": {
        "name": "ipython",
        "version": 3
      },
      "file_extension": ".py",
      "mimetype": "text/x-python",
      "name": "python",
      "nbconvert_exporter": "python",
      "pygments_lexer": "ipython3",
      "version": "3.7.7"
    }
  },
  "cells": [
    {
      "cell_type": "markdown",
      "metadata": {
        "id": "view-in-github",
        "colab_type": "text"
      },
      "source": [
        "<a href=\"https://colab.research.google.com/github/Akshat-0001/Akshat-0001/blob/main/Exp1_Random_Number_String%2C_Exception_Handling.ipynb\" target=\"_parent\"><img src=\"https://colab.research.google.com/assets/colab-badge.svg\" alt=\"Open In Colab\"/></a>"
      ]
    },
    {
      "cell_type": "markdown",
      "metadata": {
        "id": "eaNq4Gmi9Qic"
      },
      "source": [
        "### Basics Of Python - Part 3 (Random Number-String, Exception Handling)\n",
        "#### Topics\n",
        "1. Random Numbers\n",
        "2. Random Strings\n",
        "3. Exception Handling\n",
        "\n",
        "##### Note: \n",
        "1. First Clean the Evironment (Go to \"Kernel\" Menu --> \"Restart & Clean Output\"\n",
        "2. To execute the code --> Click on a cell and press cntrl + enter key"
      ]
    },
    {
      "cell_type": "markdown",
      "metadata": {
        "id": "y3VrvYW2-6Ka"
      },
      "source": [
        "# 1: Random Numbers / Random Strings"
      ]
    },
    {
      "cell_type": "markdown",
      "metadata": {
        "id": "Gq0PULEifE7-"
      },
      "source": [
        "### 1.1: Generate random number between 0 and 1"
      ]
    },
    {
      "cell_type": "code",
      "metadata": {
        "id": "eikxCFcN-7AR"
      },
      "source": [
        "#------------------------------------------------------------------------\n",
        "# 1.1: Generate random number between 0 and 1\n",
        "#------------------------------------------------------------------------\n",
        "import random as r\n",
        "print (\"r.random() -->\", r.random())        # Random number between 0 and 1\n",
        "print (\"r.random() -->\", r.random())\n",
        "print (\"r.random() -->\", r.random())\n"
      ],
      "execution_count": null,
      "outputs": []
    },
    {
      "cell_type": "markdown",
      "metadata": {
        "id": "cqpT3EdffE8A"
      },
      "source": [
        "### 1.2: Generate random integer number"
      ]
    },
    {
      "cell_type": "code",
      "metadata": {
        "id": "lykBODDufE8A"
      },
      "source": [
        "#------------------------------------------------------------------------\n",
        "# 1.2: Generate random integer number\n",
        "#------------------------------------------------------------------------\n",
        "import random as r\n",
        "print (\"r.randint(  1, 10) -->\", r.randint(1, 10))\n",
        "print (\"r.randint(  1, 10) -->\", r.randint(1, 10))\n",
        "print (\"r.randint(-10, 10) -->\", r.randint(-10, 10))\n",
        "print (\"r.randint(-10, 10) -->\", r.randint(-10, 10))\n"
      ],
      "execution_count": null,
      "outputs": []
    },
    {
      "cell_type": "markdown",
      "metadata": {
        "id": "QxMptMFPfE8B"
      },
      "source": [
        "### 1.3: Generate random real number"
      ]
    },
    {
      "cell_type": "code",
      "metadata": {
        "id": "LoayUPGOfE8B"
      },
      "source": [
        "#------------------------------------------------------------------------\n",
        "# 1.3: Generate random real number\n",
        "#------------------------------------------------------------------------\n",
        "import random as r\n",
        "\n",
        "print (\"r.uniform(1, 100)   -->\", r.uniform(1, 100))\n",
        "print (\"r.uniform(1, 100)   -->\", round(r.uniform(1, 100),2))\n",
        "print (\"r.uniform (-10, 10) -->\", r.uniform (-10, 10))\n",
        "print (\"r.uniform (-10, 10) -->\", round(r.uniform (-10, 10),4))\n"
      ],
      "execution_count": null,
      "outputs": []
    },
    {
      "cell_type": "markdown",
      "metadata": {
        "id": "g_FacwbPfE8C"
      },
      "source": [
        "### 1.4: Generate sample from a list of elements"
      ]
    },
    {
      "cell_type": "code",
      "metadata": {
        "id": "89zxRhL1fE8D"
      },
      "source": [
        "#------------------------------------------------------------------------\n",
        "# 1.4: Generate sample from a list of elements\n",
        "#------------------------------------------------------------------------\n",
        "import random as r\n",
        "\n",
        "A = [1, 2, 3, 4, 5, 6, 7, 8, 9, 10]        # A is a list\n",
        "print (\"A            --> \",A)\n",
        "\n",
        "print (\"\")\n",
        "print (\"sample(A, 4) --> \",r.sample(A, 4))\n",
        "print (\"sample(A, 2) --> \",r.sample(A, 2))\n",
        "\n",
        "print (\"\")\n",
        "print (\"sample(range(1,90),2) --> \",r.sample(range(1,90), 2))\n",
        "print (\"sample(range(1,90),2) --> \",r.sample(range(1,90), 2))\n"
      ],
      "execution_count": null,
      "outputs": []
    },
    {
      "cell_type": "markdown",
      "metadata": {
        "id": "s3HTwetPfE8E"
      },
      "source": [
        "### 1.5: Generate random string"
      ]
    },
    {
      "cell_type": "code",
      "metadata": {
        "id": "PRfJ7ycZfE8E"
      },
      "source": [
        "#------------------------------------------------------------------------\n",
        "# 1.5: Generate random string\n",
        "#------------------------------------------------------------------------\n",
        "# Example 1\n",
        "import string as s\n",
        "import random as r\n",
        "print (\"String  --> \",s.ascii_letters)\n",
        "\n",
        "passwd = r.sample(s.ascii_letters, 5)\n",
        "print (\"\")\n",
        "print (\"passwd1 --> \",passwd)\n",
        "passwd = \"\".join(passwd)             # Merge all the char of list\n",
        "print (\"passwd1 --> \",passwd)\n"
      ],
      "execution_count": null,
      "outputs": []
    },
    {
      "cell_type": "code",
      "metadata": {
        "id": "ia5JVZ0yfE8F"
      },
      "source": [
        "# Example 2\n",
        "import string as s\n",
        "import random as r\n",
        "print (\"String  --> \",s.ascii_letters)\n",
        "\n",
        "passwd = r.sample(s.ascii_letters, 6)\n",
        "print (\"\")\n",
        "print (\"passwd2 --> \",passwd)\n",
        "passwd = \"+\".join(passwd)\n",
        "#passwd = \"*\".join(passwd)\n",
        "print (\"passwd2 --> \",passwd)\n"
      ],
      "execution_count": null,
      "outputs": []
    },
    {
      "cell_type": "markdown",
      "metadata": {
        "id": "JupFctl_fE8F"
      },
      "source": [
        "### 1.6: Generate random digits (OTP)"
      ]
    },
    {
      "cell_type": "code",
      "metadata": {
        "id": "h9RRVVBLfE8G"
      },
      "source": [
        "#------------------------------------------------------------------------\n",
        "# 1.6: Generate random digits (OTP)\n",
        "#------------------------------------------------------------------------\n",
        "import string as s\n",
        "import random as r\n",
        "print (\"Digits --> \",s.digits)\n",
        "\n",
        "# Example 1\n",
        "otp = r.sample(s.digits, 5)\n",
        "print (\"\")\n",
        "print (\"otp1 --> \",otp)\n",
        "otp = \"\".join(otp)\n",
        "print (\"otp1 --> \",otp)\n"
      ],
      "execution_count": null,
      "outputs": []
    },
    {
      "cell_type": "markdown",
      "metadata": {
        "id": "lVBn69iBfE8G"
      },
      "source": [
        "### 1.7: Generate random string + digits"
      ]
    },
    {
      "cell_type": "code",
      "metadata": {
        "id": "hbC2DgWLfE8H"
      },
      "source": [
        "#------------------------------------------------------------------------\n",
        "# 1.7: Generate random string + digits\n",
        "#------------------------------------------------------------------------\n",
        "import string as s\n",
        "import random as r\n",
        "print (\"String + Digits--> \",s.ascii_letters + s.digits)\n",
        "\n",
        "# Example 1\n",
        "mixPasswd = r.sample(s.ascii_letters + s.digits, 8)\n",
        "print (\"\")\n",
        "print (\"mixPasswd1 --> \",mixPasswd)\n",
        "mixPasswd = \"\".join(mixPasswd)\n",
        "print (\"mixPasswd1 --> \",mixPasswd)\n"
      ],
      "execution_count": null,
      "outputs": []
    },
    {
      "cell_type": "markdown",
      "metadata": {
        "id": "K_lzXYcefE8I"
      },
      "source": [
        "### 1.8: Generate random string + digits + special char"
      ]
    },
    {
      "cell_type": "code",
      "metadata": {
        "id": "IbE5Tb9XfE8I"
      },
      "source": [
        "#------------------------------------------------------------------------\n",
        "# 1.8: Generate random string + digits + special char\n",
        "#------------------------------------------------------------------------\n",
        "import string as s\n",
        "import random as r\n",
        "\n",
        "splChar = \"#@!~%^&*()_+=-[]{}|\"\n",
        "\n",
        "# Example 1\n",
        "mixPasswd = r.sample(splChar + s.ascii_letters + s.digits, 12)\n",
        "print (\"mixPasswd --> \",mixPasswd)\n",
        "mixPasswd = \"\".join(mixPasswd)\n",
        "print (\"\")\n",
        "print (\"mixPasswd --> \",mixPasswd)\n"
      ],
      "execution_count": null,
      "outputs": []
    },
    {
      "cell_type": "markdown",
      "metadata": {
        "id": "JvumeGnffE8J"
      },
      "source": [
        "# 2: Exception Handaling\n",
        "\n",
        "### Run time errors are known as exception e.g. division by zero, file not found, etc"
      ]
    },
    {
      "cell_type": "markdown",
      "metadata": {
        "id": "fScr7_WbfE8K"
      },
      "source": [
        "### 2.1: Error Generation 2: Division by Zero"
      ]
    },
    {
      "cell_type": "code",
      "metadata": {
        "id": "dD2VzRfufE8K"
      },
      "source": [
        "#------------------------------------------------------------------------\n",
        "# 2.1: Error Generation 2: Division by Zero\n",
        "#------------------------------------------------------------------------\n",
        "for i in range(-5,6):\n",
        "    print (\"100/\",i,\"-->\", 100/i)\n"
      ],
      "execution_count": null,
      "outputs": []
    },
    {
      "cell_type": "markdown",
      "metadata": {
        "id": "Z9AEqCaSfE8L"
      },
      "source": [
        "### 2.2: Exception handling for division by zero"
      ]
    },
    {
      "cell_type": "code",
      "metadata": {
        "id": "vKfI0RLufE8L"
      },
      "source": [
        "#------------------------------------------------------------------------\n",
        "# 2.2: Exception handling for division by zero\n",
        "#------------------------------------------------------------------------\n",
        "for i in range(-5,6):\n",
        "    try:\n",
        "        print (\"100 /\",i,\"-->\", 100/i)\n",
        "    except:\n",
        "        print (\"error\")\n"
      ],
      "execution_count": null,
      "outputs": []
    },
    {
      "cell_type": "markdown",
      "metadata": {
        "id": "tRXFa-zXfE8M"
      },
      "source": [
        "### 2.3: Error Generation 1"
      ]
    },
    {
      "cell_type": "code",
      "metadata": {
        "id": "WU5_0lgVfE8M"
      },
      "source": [
        "#------------------------------------------------------------------------\n",
        "# 2.3: Error Generation 1: Variable not Defined\n",
        "#------------------------------------------------------------------------\n",
        "print(\"x = \", x)\n"
      ],
      "execution_count": null,
      "outputs": []
    },
    {
      "cell_type": "markdown",
      "metadata": {
        "id": "ro3UEye2fE8M"
      },
      "source": [
        "### 2.4: Exception handling:  Variable not Defined"
      ]
    },
    {
      "cell_type": "code",
      "metadata": {
        "id": "LxqhkDg8fE8N"
      },
      "source": [
        "#------------------------------------------------------------------------\n",
        "# 2.4: Exception handling:  Variable not Defined\n",
        "#------------------------------------------------------------------------\n",
        "try:\n",
        "  print(\"x = \", x)\n",
        "except:\n",
        "  print(\"An exception occurred; x is not defined\")\n",
        "  "
      ],
      "execution_count": null,
      "outputs": []
    },
    {
      "cell_type": "markdown",
      "metadata": {
        "id": "vuAzC6J0fE8N"
      },
      "source": [
        "### 2.5 Exception handling:  Variable not Defined"
      ]
    },
    {
      "cell_type": "code",
      "metadata": {
        "id": "qEzfZTjTfE8N"
      },
      "source": [
        "#------------------------------------------------------------------------\n",
        "# 2.5: Exception handling:  Variable not Defined\n",
        "#------------------------------------------------------------------------\n",
        "\n",
        "try:\n",
        "  print(\"x = \", x)\n",
        "except NameError:\n",
        "  print(\"Variable x is not defined\")\n",
        "except:\n",
        "  print(\"Something else went wrong\")\n"
      ],
      "execution_count": null,
      "outputs": []
    },
    {
      "cell_type": "markdown",
      "metadata": {
        "id": "skDIfM8WfE8O"
      },
      "source": [
        "### 2.6: Exception handling:  else without if"
      ]
    },
    {
      "cell_type": "code",
      "metadata": {
        "id": "LFdogBlcfE8O"
      },
      "source": [
        "#------------------------------------------------------------------------\n",
        "# 2.6: Exception handling:  else without if\n",
        "#------------------------------------------------------------------------\n",
        "#The try block does not raise any errors, so the else block is executed:\n",
        "\n",
        "# Example 1\n",
        "try:\n",
        "  print(\"Hello\")\n",
        "except:\n",
        "  print(\"Something went wrong\")\n",
        "else:\n",
        "  print(\"Nothing went wrong\\n\")\n"
      ],
      "execution_count": null,
      "outputs": []
    },
    {
      "cell_type": "code",
      "metadata": {
        "id": "su9dLmJDfE8O"
      },
      "source": [
        "# Example 2\n",
        "try:\n",
        "  print(\"x = \", x)\n",
        "except:\n",
        "  print(\"An exception occurred; x is not defined\")\n",
        "else:\n",
        "  print(\"Nothing went wrong\")"
      ],
      "execution_count": null,
      "outputs": []
    },
    {
      "cell_type": "markdown",
      "metadata": {
        "id": "vOZ0aBfEfE8P"
      },
      "source": [
        "### 2.7: Finally block"
      ]
    },
    {
      "cell_type": "code",
      "metadata": {
        "id": "CRpOA8WpfE8P"
      },
      "source": [
        "#------------------------------------------------------------------------\n",
        "# 2.7: Finally block\n",
        "#------------------------------------------------------------------------\n",
        "#The finally block gets executed no matter if the try block raises any errors or not:\n",
        "\n",
        "try:\n",
        "  print(\"x = \", x)\n",
        "except:\n",
        "  print(\"Something went wrong\")\n",
        "finally:\n",
        "  print(\"The 'try except' is finished\")\n"
      ],
      "execution_count": null,
      "outputs": []
    },
    {
      "cell_type": "markdown",
      "metadata": {
        "id": "npyYpLP8fE8P"
      },
      "source": [
        "### 2.8: Exception handling for array out of index"
      ]
    },
    {
      "cell_type": "code",
      "metadata": {
        "id": "-yPONCppfE8P"
      },
      "source": [
        "#------------------------------------------------------------------------\n",
        "# 2.8: Exception handling for array out of index\n",
        "#------------------------------------------------------------------------\n",
        "L = [1, 2, 3, 4, 5]\n",
        "\n",
        "for i in range(8):\n",
        "    try:\n",
        "        print (i,\"-->\",L[i])\n",
        "    except:\n",
        "        print (\"error\")\n"
      ],
      "execution_count": null,
      "outputs": []
    },
    {
      "cell_type": "markdown",
      "metadata": {
        "id": "hxqClSgKfE8Q"
      },
      "source": [
        "### 2.9: Exception handling for file not found"
      ]
    },
    {
      "cell_type": "code",
      "metadata": {
        "id": "GdpxQFRpfE8Q"
      },
      "source": [
        "#------------------------------------------------------------------------\n",
        "# 2.9: Exception handling for file not found\n",
        "#------------------------------------------------------------------------\n",
        "fileName = input(\"Enter File Name: \")\n",
        "fp = open(fileName)     # Open the file in reading mode\n",
        "fp.close()\n",
        "print (\"Done\")\n"
      ],
      "execution_count": null,
      "outputs": []
    },
    {
      "cell_type": "markdown",
      "metadata": {
        "id": "GVBxABDffE8Q"
      },
      "source": [
        "### 2.10: Exception handaling for file not found"
      ]
    },
    {
      "cell_type": "code",
      "metadata": {
        "id": "yAcICGa8fE8R"
      },
      "source": [
        "#------------------------------------------------------------------------\n",
        "# 2.10: Exception handaling for file not found\n",
        "#------------------------------------------------------------------------\n",
        "fileName=input(\"Enter File Name: \")\n",
        "try:\n",
        "    fp=open(fileName)        # Open the file in reading mode\n",
        "    fp.close()\n",
        "except:\n",
        "    print (\"Error !! %s file Not Found\"%(fileName))\n",
        "\n",
        "print (\"Done\")\n"
      ],
      "execution_count": null,
      "outputs": []
    },
    {
      "cell_type": "markdown",
      "metadata": {
        "id": "Kg1fBt4ifE8R"
      },
      "source": [
        "### 2.11: Exception handaling: Input from user (Version 1)"
      ]
    },
    {
      "cell_type": "code",
      "metadata": {
        "id": "tfuVAj4hfE8R"
      },
      "source": [
        "#------------------------------------------------------------------------\n",
        "# 2.11: Exception handaling: Input from user (Version 1)\n",
        "#------------------------------------------------------------------------\n",
        "# Add two numbers given by the user\n",
        "\n",
        "try:\n",
        "    a = int(input(\"Enter first number: \"))\n",
        "    b = int(input(\"Enter second number: \"))\n",
        "    c = a + b\n",
        "    print (a, \"+\", b, \"=\", c)\n",
        "except:\n",
        "    print(\"\\nError !! a or b is not of int type !!\")\n",
        "\n"
      ],
      "execution_count": null,
      "outputs": []
    },
    {
      "cell_type": "markdown",
      "metadata": {
        "id": "FzyJ8OGCfE8S"
      },
      "source": [
        "#####  Re-run the above code by input string"
      ]
    },
    {
      "cell_type": "markdown",
      "metadata": {
        "id": "c2gGb5tnfE8S"
      },
      "source": [
        "### 2.12: Exception handaling: Input from user (Version2)"
      ]
    },
    {
      "cell_type": "code",
      "metadata": {
        "id": "Vhp8j_RtfE8T"
      },
      "source": [
        "#------------------------------------------------------------------------\n",
        "# 2.12: Exception handaling: Input from user (Version 2)\n",
        "#------------------------------------------------------------------------\n",
        "# Add two numbers given by user\n",
        "# Note: Run the code in python IDE (spyder/pycharm/idle)\n",
        "\n",
        "try:\n",
        "    a = int(input(\"Enter first number: \"))\n",
        "except:\n",
        "    print(\"\\nError !! a is not of int type !!\")\n",
        "    exit(0)\n",
        "\n",
        "try:\n",
        "    b = int(input(\"Enter second number: \"))\n",
        "except:\n",
        "    print(\"\\nError !! b is not of int type !!\")\n",
        "    exit(0)\n",
        "\n",
        "c = a + b\n",
        "\n",
        "print (a,\" + \", b, \" = \", c)\n"
      ],
      "execution_count": null,
      "outputs": []
    },
    {
      "cell_type": "markdown",
      "metadata": {
        "id": "zTVduGEKfE8T"
      },
      "source": [
        "#####  Re-run the above code by input string"
      ]
    },
    {
      "cell_type": "markdown",
      "metadata": {
        "id": "6KbZEfHXfE8U"
      },
      "source": [
        "### 2.13: Raise Exception 1"
      ]
    },
    {
      "cell_type": "code",
      "metadata": {
        "id": "c2moP81OfE8U"
      },
      "source": [
        "#------------------------------------------------------------------------\n",
        "# 2.13: Raise Exception 1\n",
        "#------------------------------------------------------------------------\n",
        "x = -1\n",
        "\n",
        "if x < 0:\n",
        "  raise Exception(\"Sorry, no numbers below zero\") \n"
      ],
      "execution_count": null,
      "outputs": []
    },
    {
      "cell_type": "markdown",
      "metadata": {
        "id": "Zw7nbqxDfE8U"
      },
      "source": [
        "### 2.14: Raise Exception 2"
      ]
    },
    {
      "cell_type": "code",
      "metadata": {
        "id": "Q-YlojpjfE8U"
      },
      "source": [
        "#------------------------------------------------------------------------\n",
        "# 2.14: Raise Exception 2\n",
        "#------------------------------------------------------------------------\n",
        "x = \"Hello\"\n",
        "\n",
        "if type(x) is not int:\n",
        "  raise TypeError(\"Only integers are allowed\")\n"
      ],
      "execution_count": null,
      "outputs": []
    }
  ]
}